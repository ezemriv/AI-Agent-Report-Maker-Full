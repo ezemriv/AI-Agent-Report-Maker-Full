{
 "cells": [
  {
   "cell_type": "code",
   "execution_count": 1,
   "metadata": {},
   "outputs": [],
   "source": [
    "import os\n",
    "import sys\n",
    "import pandas as pd\n",
    "import polars as pl\n",
    "import numpy as np\n",
    "import json\n",
    "\n",
    "# root path\n",
    "ROOT = os.path.abspath(os.path.join(os.getcwd(), '..'))\n",
    "\n",
    "# Add the project root to the Python path\n",
    "if ROOT not in sys.path:\n",
    "    sys.path.append(ROOT)\n",
    "\n",
    "from src.data.data_processing import FraudPreProcessor, process_fraud_data"
   ]
  },
  {
   "cell_type": "markdown",
   "metadata": {},
   "source": [
    "- **Task 3:** Create a fraud detection model capable of detecting fraudulent transactions. The dataset `transactions_data.csv` will be split for training and prediction. Predictions should only be made for the transaction IDs listed in `predictions/predictions_3.json`. The fraud labels for training can be found at:\n",
    "    - [Download transaction fraud labels](https://cdn.nuwe.io/challenges-ds-datasets/hackathon-caixabank-data-24/train_fraud_labels.json)"
   ]
  },
  {
   "cell_type": "code",
   "execution_count": 2,
   "metadata": {},
   "outputs": [],
   "source": [
    "DATA_PATH = os.path.join(ROOT, 'data', 'raw', 'transactions_data.csv')\n",
    "LABELS_PATH = os.path.join(ROOT, 'data', 'raw', 'train_fraud_labels.json')\n",
    "PREDICTION_IDS_PATH = os.path.join(ROOT, 'predictions', 'predictions_3.json')\n",
    "\n",
    "TRAIN_PATH = os.path.join(ROOT, 'data', 'processed', 'train.parquet')\n",
    "TEST_PATH = os.path.join(ROOT, 'data', 'processed', 'test.parquet')"
   ]
  },
  {
   "cell_type": "code",
   "execution_count": 3,
   "metadata": {},
   "outputs": [
    {
     "name": "stdout",
     "output_type": "stream",
     "text": [
      "Processing transactions data...\n"
     ]
    },
    {
     "name": "stderr",
     "output_type": "stream",
     "text": [
      "/home/ezemriv/other_projects/hackathon-caixabank-data-ai-report/src/data/data_processing.py:46: CategoricalRemappingWarning: Local categoricals have different encodings, expensive re-encoding is done to perform this merge operation. Consider using a StringCache or an Enum type if the categories are known in advance\n",
      "  df = df.with_columns([pl.col(col).cast(pl.String).cast(pl.Categorical) for col in cat_cols])\n",
      "sys:1: CategoricalRemappingWarning: Local categoricals have different encodings, expensive re-encoding is done to perform this merge operation. Consider using a StringCache or an Enum type if the categories are known in advance\n"
     ]
    },
    {
     "name": "stdout",
     "output_type": "stream",
     "text": [
      "Train data shape: (8914963, 12)\n",
      "Test data shape: (2890952, 12)\n",
      "% target distribution in train data:\n",
      "shape: (2, 2)\n",
      "┌───────┬────────────┐\n",
      "│ fraud ┆ proportion │\n",
      "│ ---   ┆ ---        │\n",
      "│ i64   ┆ f64        │\n",
      "╞═══════╪════════════╡\n",
      "│ 1     ┆ 0.001495   │\n",
      "│ 0     ┆ 0.998505   │\n",
      "└───────┴────────────┘\n",
      "**************************************************\n",
      "DATASET IS HIGHLY IMBALANCED\n",
      "**************************************************\n",
      "Data saved to /home/ezemriv/other_projects/hackathon-caixabank-data-ai-report/data/processed/train.parquet\n",
      "Data saved to /home/ezemriv/other_projects/hackathon-caixabank-data-ai-report/data/processed/test.parquet\n",
      "Train data saved to /home/ezemriv/other_projects/hackathon-caixabank-data-ai-report/data/processed/train.parquet\n",
      "Test data saved to /home/ezemriv/other_projects/hackathon-caixabank-data-ai-report/data/processed/test.parquet\n"
     ]
    }
   ],
   "source": [
    "fp = FraudPreProcessor()\n",
    "train, test = process_fraud_data()"
   ]
  }
 ],
 "metadata": {
  "kernelspec": {
   "display_name": "nuwe",
   "language": "python",
   "name": "python3"
  },
  "language_info": {
   "codemirror_mode": {
    "name": "ipython",
    "version": 3
   },
   "file_extension": ".py",
   "mimetype": "text/x-python",
   "name": "python",
   "nbconvert_exporter": "python",
   "pygments_lexer": "ipython3",
   "version": "3.10.15"
  }
 },
 "nbformat": 4,
 "nbformat_minor": 2
}
