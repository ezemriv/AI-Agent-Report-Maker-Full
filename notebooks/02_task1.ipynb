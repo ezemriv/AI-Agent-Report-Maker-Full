{
 "cells": [
  {
   "cell_type": "code",
   "execution_count": 1,
   "metadata": {},
   "outputs": [],
   "source": [
    "import os\n",
    "import sys\n",
    "\n",
    "# root path\n",
    "ROOT = os.path.abspath(os.path.join(os.getcwd(), '..'))\n",
    "\n",
    "# Add the project root to the Python path\n",
    "if ROOT not in sys.path:\n",
    "    sys.path.append(ROOT)"
   ]
  },
  {
   "cell_type": "code",
   "execution_count": 2,
   "metadata": {},
   "outputs": [],
   "source": [
    "# Import necessary libraries\n",
    "import pandas as pd\n",
    "import numpy as np\n",
    "import json\n",
    "import os"
   ]
  },
  {
   "cell_type": "markdown",
   "metadata": {},
   "source": [
    "# Query 1"
   ]
  },
  {
   "cell_type": "code",
   "execution_count": 18,
   "metadata": {},
   "outputs": [],
   "source": [
    "from src.data.data_processing import pickelup_card_data, pickelup_transactions_data, pickelup_client_data"
   ]
  },
  {
   "cell_type": "code",
   "execution_count": 7,
   "metadata": {},
   "outputs": [
    {
     "data": {
      "text/html": [
       "<div>\n",
       "<style scoped>\n",
       "    .dataframe tbody tr th:only-of-type {\n",
       "        vertical-align: middle;\n",
       "    }\n",
       "\n",
       "    .dataframe tbody tr th {\n",
       "        vertical-align: top;\n",
       "    }\n",
       "\n",
       "    .dataframe thead th {\n",
       "        text-align: right;\n",
       "    }\n",
       "</style>\n",
       "<table border=\"1\" class=\"dataframe\">\n",
       "  <thead>\n",
       "    <tr style=\"text-align: right;\">\n",
       "      <th></th>\n",
       "      <th>card_id</th>\n",
       "      <th>client_id</th>\n",
       "      <th>card_brand</th>\n",
       "      <th>card_type</th>\n",
       "      <th>expires</th>\n",
       "      <th>has_chip</th>\n",
       "      <th>num_cards_issued</th>\n",
       "      <th>credit_limit</th>\n",
       "      <th>acct_open_date</th>\n",
       "      <th>year_pin_last_changed</th>\n",
       "      <th>card_on_dark_web</th>\n",
       "    </tr>\n",
       "  </thead>\n",
       "  <tbody>\n",
       "    <tr>\n",
       "      <th>0</th>\n",
       "      <td>4524</td>\n",
       "      <td>825</td>\n",
       "      <td>Visa</td>\n",
       "      <td>Debit</td>\n",
       "      <td>2022-12-01</td>\n",
       "      <td>YES</td>\n",
       "      <td>2</td>\n",
       "      <td>24295</td>\n",
       "      <td>2002-09-01</td>\n",
       "      <td>2008</td>\n",
       "      <td>No</td>\n",
       "    </tr>\n",
       "    <tr>\n",
       "      <th>1</th>\n",
       "      <td>2731</td>\n",
       "      <td>825</td>\n",
       "      <td>Visa</td>\n",
       "      <td>Debit</td>\n",
       "      <td>2020-12-01</td>\n",
       "      <td>YES</td>\n",
       "      <td>2</td>\n",
       "      <td>21968</td>\n",
       "      <td>2014-04-01</td>\n",
       "      <td>2014</td>\n",
       "      <td>No</td>\n",
       "    </tr>\n",
       "    <tr>\n",
       "      <th>2</th>\n",
       "      <td>3701</td>\n",
       "      <td>825</td>\n",
       "      <td>Visa</td>\n",
       "      <td>Debit</td>\n",
       "      <td>2024-02-01</td>\n",
       "      <td>YES</td>\n",
       "      <td>2</td>\n",
       "      <td>46414</td>\n",
       "      <td>2003-07-01</td>\n",
       "      <td>2004</td>\n",
       "      <td>No</td>\n",
       "    </tr>\n",
       "    <tr>\n",
       "      <th>3</th>\n",
       "      <td>42</td>\n",
       "      <td>825</td>\n",
       "      <td>Visa</td>\n",
       "      <td>Credit</td>\n",
       "      <td>2024-08-01</td>\n",
       "      <td>NO</td>\n",
       "      <td>1</td>\n",
       "      <td>12400</td>\n",
       "      <td>2003-01-01</td>\n",
       "      <td>2012</td>\n",
       "      <td>No</td>\n",
       "    </tr>\n",
       "    <tr>\n",
       "      <th>4</th>\n",
       "      <td>4659</td>\n",
       "      <td>825</td>\n",
       "      <td>Mastercard</td>\n",
       "      <td>Debit (Prepaid)</td>\n",
       "      <td>2009-03-01</td>\n",
       "      <td>YES</td>\n",
       "      <td>1</td>\n",
       "      <td>28</td>\n",
       "      <td>2008-09-01</td>\n",
       "      <td>2009</td>\n",
       "      <td>No</td>\n",
       "    </tr>\n",
       "  </tbody>\n",
       "</table>\n",
       "</div>"
      ],
      "text/plain": [
       "  card_id client_id  card_brand        card_type    expires has_chip  \\\n",
       "0    4524       825        Visa            Debit 2022-12-01      YES   \n",
       "1    2731       825        Visa            Debit 2020-12-01      YES   \n",
       "2    3701       825        Visa            Debit 2024-02-01      YES   \n",
       "3      42       825        Visa           Credit 2024-08-01       NO   \n",
       "4    4659       825  Mastercard  Debit (Prepaid) 2009-03-01      YES   \n",
       "\n",
       "   num_cards_issued  credit_limit acct_open_date  year_pin_last_changed  \\\n",
       "0                 2         24295     2002-09-01                   2008   \n",
       "1                 2         21968     2014-04-01                   2014   \n",
       "2                 2         46414     2003-07-01                   2004   \n",
       "3                 1         12400     2003-01-01                   2012   \n",
       "4                 1            28     2008-09-01                   2009   \n",
       "\n",
       "  card_on_dark_web  \n",
       "0               No  \n",
       "1               No  \n",
       "2               No  \n",
       "3               No  \n",
       "4               No  "
      ]
     },
     "execution_count": 7,
     "metadata": {},
     "output_type": "execute_result"
    }
   ],
   "source": [
    "# Query 1: Find the card_id with the latest expiry date and the lowest credit limit amount.\n",
    "\n",
    "card_df = pickelup_card_data(file_path=\"../data/processed/card_df.pkl\")\n",
    "card_df.head()"
   ]
  },
  {
   "cell_type": "code",
   "execution_count": 9,
   "metadata": {},
   "outputs": [],
   "source": [
    "# Find the latest expiry date\n",
    "latest_expiry = card_df['expires'].max()\n",
    "cards_with_latest_expiry = card_df[card_df['expires'] == latest_expiry]"
   ]
  },
  {
   "cell_type": "code",
   "execution_count": 11,
   "metadata": {},
   "outputs": [],
   "source": [
    "# From these cards, find the one with the lowest credit limit\n",
    "min_credit_limit = cards_with_latest_expiry['credit_limit'].min()\n",
    "card_with_min_credit_limit = cards_with_latest_expiry[cards_with_latest_expiry['credit_limit'] == min_credit_limit]"
   ]
  },
  {
   "cell_type": "code",
   "execution_count": 56,
   "metadata": {},
   "outputs": [
    {
     "name": "stdout",
     "output_type": "stream",
     "text": [
      "4137\n"
     ]
    }
   ],
   "source": [
    "# Retrieve the card_id\n",
    "query_1_card_id = int(card_with_min_credit_limit['card_id'].values[0])\n",
    "print(query_1_card_id)"
   ]
  },
  {
   "cell_type": "markdown",
   "metadata": {},
   "source": [
    "# Query 2"
   ]
  },
  {
   "cell_type": "code",
   "execution_count": 22,
   "metadata": {},
   "outputs": [
    {
     "data": {
      "text/html": [
       "<div>\n",
       "<style scoped>\n",
       "    .dataframe tbody tr th:only-of-type {\n",
       "        vertical-align: middle;\n",
       "    }\n",
       "\n",
       "    .dataframe tbody tr th {\n",
       "        vertical-align: top;\n",
       "    }\n",
       "\n",
       "    .dataframe thead th {\n",
       "        text-align: right;\n",
       "    }\n",
       "</style>\n",
       "<table border=\"1\" class=\"dataframe\">\n",
       "  <thead>\n",
       "    <tr style=\"text-align: right;\">\n",
       "      <th></th>\n",
       "      <th>client_id</th>\n",
       "      <th>current_age</th>\n",
       "      <th>retirement_age</th>\n",
       "      <th>birth_year</th>\n",
       "      <th>birth_month</th>\n",
       "      <th>gender</th>\n",
       "      <th>address</th>\n",
       "      <th>latitude</th>\n",
       "      <th>longitude</th>\n",
       "      <th>per_capita_income</th>\n",
       "      <th>yearly_income</th>\n",
       "      <th>total_debt</th>\n",
       "      <th>credit_score</th>\n",
       "      <th>num_credit_cards</th>\n",
       "    </tr>\n",
       "  </thead>\n",
       "  <tbody>\n",
       "    <tr>\n",
       "      <th>0</th>\n",
       "      <td>825</td>\n",
       "      <td>53</td>\n",
       "      <td>66</td>\n",
       "      <td>1966</td>\n",
       "      <td>11</td>\n",
       "      <td>Female</td>\n",
       "      <td>462 Rose Lane</td>\n",
       "      <td>34.0</td>\n",
       "      <td>-118.0</td>\n",
       "      <td>29278</td>\n",
       "      <td>59696</td>\n",
       "      <td>127613</td>\n",
       "      <td>787</td>\n",
       "      <td>5</td>\n",
       "    </tr>\n",
       "    <tr>\n",
       "      <th>1</th>\n",
       "      <td>1746</td>\n",
       "      <td>53</td>\n",
       "      <td>68</td>\n",
       "      <td>1966</td>\n",
       "      <td>12</td>\n",
       "      <td>Female</td>\n",
       "      <td>3606 Federal Boulevard</td>\n",
       "      <td>41.0</td>\n",
       "      <td>-74.0</td>\n",
       "      <td>37891</td>\n",
       "      <td>77254</td>\n",
       "      <td>191349</td>\n",
       "      <td>701</td>\n",
       "      <td>5</td>\n",
       "    </tr>\n",
       "    <tr>\n",
       "      <th>2</th>\n",
       "      <td>1718</td>\n",
       "      <td>81</td>\n",
       "      <td>67</td>\n",
       "      <td>1938</td>\n",
       "      <td>11</td>\n",
       "      <td>Female</td>\n",
       "      <td>766 Third Drive</td>\n",
       "      <td>34.0</td>\n",
       "      <td>-118.0</td>\n",
       "      <td>22681</td>\n",
       "      <td>33483</td>\n",
       "      <td>196</td>\n",
       "      <td>698</td>\n",
       "      <td>5</td>\n",
       "    </tr>\n",
       "    <tr>\n",
       "      <th>3</th>\n",
       "      <td>708</td>\n",
       "      <td>63</td>\n",
       "      <td>63</td>\n",
       "      <td>1957</td>\n",
       "      <td>1</td>\n",
       "      <td>Female</td>\n",
       "      <td>3 Madison Street</td>\n",
       "      <td>41.0</td>\n",
       "      <td>-74.0</td>\n",
       "      <td>163145</td>\n",
       "      <td>249925</td>\n",
       "      <td>202328</td>\n",
       "      <td>722</td>\n",
       "      <td>4</td>\n",
       "    </tr>\n",
       "    <tr>\n",
       "      <th>4</th>\n",
       "      <td>1164</td>\n",
       "      <td>43</td>\n",
       "      <td>70</td>\n",
       "      <td>1976</td>\n",
       "      <td>9</td>\n",
       "      <td>Male</td>\n",
       "      <td>9620 Valley Stream Drive</td>\n",
       "      <td>38.0</td>\n",
       "      <td>-122.0</td>\n",
       "      <td>53797</td>\n",
       "      <td>109687</td>\n",
       "      <td>183855</td>\n",
       "      <td>675</td>\n",
       "      <td>1</td>\n",
       "    </tr>\n",
       "  </tbody>\n",
       "</table>\n",
       "</div>"
      ],
      "text/plain": [
       "  client_id  current_age  retirement_age  birth_year  birth_month  gender  \\\n",
       "0       825           53              66        1966           11  Female   \n",
       "1      1746           53              68        1966           12  Female   \n",
       "2      1718           81              67        1938           11  Female   \n",
       "3       708           63              63        1957            1  Female   \n",
       "4      1164           43              70        1976            9    Male   \n",
       "\n",
       "                    address  latitude  longitude  per_capita_income  \\\n",
       "0             462 Rose Lane      34.0     -118.0              29278   \n",
       "1    3606 Federal Boulevard      41.0      -74.0              37891   \n",
       "2           766 Third Drive      34.0     -118.0              22681   \n",
       "3          3 Madison Street      41.0      -74.0             163145   \n",
       "4  9620 Valley Stream Drive      38.0     -122.0              53797   \n",
       "\n",
       "   yearly_income  total_debt  credit_score  num_credit_cards  \n",
       "0          59696      127613           787                 5  \n",
       "1          77254      191349           701                 5  \n",
       "2          33483         196           698                 5  \n",
       "3         249925      202328           722                 4  \n",
       "4         109687      183855           675                 1  "
      ]
     },
     "execution_count": 22,
     "metadata": {},
     "output_type": "execute_result"
    }
   ],
   "source": [
    "# Query 2: Find the client_id that will retire within a year, has the lowest credit score, and highest debt.\n",
    "\n",
    "client_df = pickelup_client_data(file_path=\"../data/processed/client_df.pkl\")"
   ]
  },
  {
   "cell_type": "code",
   "execution_count": 25,
   "metadata": {},
   "outputs": [],
   "source": [
    "# Filter clients retiring within a year\n",
    "client_df['years_to_retirement'] = client_df['retirement_age'] - client_df['current_age']\n",
    "retiring_clients = client_df[client_df['years_to_retirement'] <= 1]"
   ]
  },
  {
   "cell_type": "code",
   "execution_count": 26,
   "metadata": {},
   "outputs": [],
   "source": [
    "# Find the client with the lowest credit score\n",
    "min_credit_score = retiring_clients['credit_score'].min()\n",
    "clients_with_min_score = retiring_clients[retiring_clients['credit_score'] == min_credit_score]"
   ]
  },
  {
   "cell_type": "code",
   "execution_count": 55,
   "metadata": {},
   "outputs": [
    {
     "name": "stdout",
     "output_type": "stream",
     "text": [
      "1987\n"
     ]
    }
   ],
   "source": [
    "# From these clients, find the one with the highest debt\n",
    "max_debt = clients_with_min_score['total_debt'].max()\n",
    "client_with_max_debt = clients_with_min_score[clients_with_min_score['total_debt'] == max_debt]\n",
    "\n",
    "# Retrieve the client_id\n",
    "query_2_client_id = int(client_with_max_debt['client_id'].values[0])\n",
    "\n",
    "print(query_2_client_id)"
   ]
  },
  {
   "cell_type": "markdown",
   "metadata": {},
   "source": [
    "# Query 3"
   ]
  },
  {
   "cell_type": "code",
   "execution_count": 46,
   "metadata": {},
   "outputs": [],
   "source": [
    "# Query 3: Find the transaction_id of an online purchase on December 31st with the highest absolute amount.\n",
    "\n",
    "transactions_df = pickelup_transactions_data(file_path=\"../data/processed/transactions_df.pkl\")\n",
    "transactions_df = transactions_df[(transactions_df['date'].dt.month == 12) & (transactions_df['date'].dt.day == 31)]\n",
    "transactions_df.set_index('id', inplace=True)"
   ]
  },
  {
   "cell_type": "code",
   "execution_count": 47,
   "metadata": {},
   "outputs": [
    {
     "name": "stdout",
     "output_type": "stream",
     "text": [
      "ONLINE\n"
     ]
    }
   ],
   "source": [
    "for name in transactions_df['merchant_city'].unique():\n",
    "    if 'online' in name.lower():\n",
    "        print(name)"
   ]
  },
  {
   "cell_type": "code",
   "execution_count": 52,
   "metadata": {},
   "outputs": [],
   "source": [
    "# Filter online purchases\n",
    "online_purchases = transactions_df[transactions_df['merchant_city'] == 'ONLINE']\n",
    "\n",
    "# Find the transaction with the highest absolute amount\n",
    "max_abs_amount = np.abs(online_purchases['amount']).max()\n",
    "\n",
    "transaction_with_max_amount = online_purchases[online_purchases['amount'] == max_abs_amount]"
   ]
  },
  {
   "cell_type": "code",
   "execution_count": 54,
   "metadata": {},
   "outputs": [
    {
     "name": "stdout",
     "output_type": "stream",
     "text": [
      "10534178\n"
     ]
    }
   ],
   "source": [
    "# Retrieve the transaction_id\n",
    "query_3_transaction_id = int(transaction_with_max_amount.index.values[0])\n",
    "print(query_3_transaction_id)"
   ]
  },
  {
   "cell_type": "markdown",
   "metadata": {},
   "source": [
    "# Query 4"
   ]
  },
  {
   "cell_type": "code",
   "execution_count": 81,
   "metadata": {},
   "outputs": [],
   "source": [
    "# Query 4: Which client over the age of 40 made the most transactions with a Visa card in February 2016?\n",
    "# Return the client_id, the card_id involved, and the total number of transactions.\n",
    "\n",
    "client_df = pickelup_client_data(file_path=\"../data/processed/client_df.pkl\")\n",
    "clients_40 = client_df[client_df['current_age'] > 40]\n",
    "\n",
    "transactions_df = pickelup_transactions_data(file_path=\"../data/processed/transactions_df.pkl\")\n",
    "trans_feb_2016 = transactions_df[(transactions_df['date'].dt.month == 2) & (transactions_df['date'].dt.year == 2016)]\n",
    "\n",
    "card_df = pickelup_card_data(file_path=\"../data/processed/card_df.pkl\")\n",
    "visa_cards = card_df[card_df['card_brand'] == 'Visa']"
   ]
  },
  {
   "cell_type": "code",
   "execution_count": 82,
   "metadata": {},
   "outputs": [],
   "source": [
    "selected_transactions = (\n",
    "    trans_feb_2016[trans_feb_2016['client_id']\n",
    "                   .isin(clients_40['client_id']) & \n",
    "                   (trans_feb_2016['card_id'].isin(visa_cards['card_id']))]\n",
    "                         )"
   ]
  },
  {
   "cell_type": "code",
   "execution_count": 83,
   "metadata": {},
   "outputs": [
    {
     "name": "stderr",
     "output_type": "stream",
     "text": [
      "/tmp/ipykernel_7553/3991983929.py:2: FutureWarning: The default of observed=False is deprecated and will be changed to True in a future version of pandas. Pass observed=False to retain current behavior or observed=True to adopt the future default and silence this warning.\n",
      "  transaction_counts = selected_transactions.groupby(['client_id', 'card_id']).size().reset_index(name='transaction_count')\n"
     ]
    }
   ],
   "source": [
    "# Group by 'client_id' and 'card_id' and count transactions\n",
    "transaction_counts = selected_transactions.groupby(['client_id', 'card_id']).size().reset_index(name='transaction_count')"
   ]
  },
  {
   "cell_type": "code",
   "execution_count": 84,
   "metadata": {},
   "outputs": [],
   "source": [
    "# Find the maximum number of transactions\n",
    "max_transactions = transaction_counts['transaction_count'].max()\n",
    "\n",
    "# Get the client(s) with the maximum transactions\n",
    "top_client = transaction_counts[transaction_counts['transaction_count'] == max_transactions]"
   ]
  },
  {
   "cell_type": "code",
   "execution_count": 88,
   "metadata": {},
   "outputs": [],
   "source": [
    "# Extract client_id, card_id, and total number of transactions\n",
    "query_4_client_id = int(top_client['client_id'].values[0])\n",
    "query_4_card_id = int(top_client['card_id'].values[0])\n",
    "query_4_total_transactions = int(top_client['transaction_count'].values[0])"
   ]
  },
  {
   "cell_type": "markdown",
   "metadata": {},
   "source": [
    "# Output"
   ]
  },
  {
   "cell_type": "code",
   "execution_count": 89,
   "metadata": {},
   "outputs": [],
   "source": [
    "# Prepare the output dictionary\n",
    "output = {\n",
    "    \"target\": {\n",
    "        \"query_1\": {\n",
    "            \"card_id\": query_1_card_id\n",
    "        },\n",
    "        \"query_2\": {\n",
    "            \"client_id\": query_2_client_id\n",
    "        },\n",
    "        \"query_3\": {\n",
    "            \"transaction_id\": query_3_transaction_id\n",
    "        },\n",
    "        \"query_4\": {\n",
    "            \"client_id\": query_4_client_id,\n",
    "            \"card_id\": query_4_card_id,\n",
    "            \"number_transactions\": query_4_total_transactions\n",
    "        }\n",
    "    }\n",
    "}\n",
    "\n",
    "# Save to predictions folder\n",
    "with open('../predictions/predictions_1.json', 'w') as f:\n",
    "    json.dump(output, f, indent=4)"
   ]
  }
 ],
 "metadata": {
  "kernelspec": {
   "display_name": "nuwe",
   "language": "python",
   "name": "python3"
  },
  "language_info": {
   "codemirror_mode": {
    "name": "ipython",
    "version": 3
   },
   "file_extension": ".py",
   "mimetype": "text/x-python",
   "name": "python",
   "nbconvert_exporter": "python",
   "pygments_lexer": "ipython3",
   "version": "3.10.15"
  }
 },
 "nbformat": 4,
 "nbformat_minor": 2
}
