{
 "cells": [
  {
   "cell_type": "markdown",
   "metadata": {},
   "source": [
    "# Test API calls"
   ]
  },
  {
   "cell_type": "code",
   "execution_count": 1,
   "metadata": {},
   "outputs": [],
   "source": [
    "import os\n",
    "import sys\n",
    "\n",
    "# root path\n",
    "ROOT = os.path.abspath(os.path.join(os.getcwd(), '..'))\n",
    "\n",
    "# Add the project root to the Python path\n",
    "if ROOT not in sys.path:\n",
    "    sys.path.append(ROOT)"
   ]
  },
  {
   "cell_type": "code",
   "execution_count": 2,
   "metadata": {},
   "outputs": [],
   "source": [
    "import pandas as pd\n",
    "import numpy as np\n",
    "from src.data.api_calls import fetch_client_data, fetch_card_data"
   ]
  },
  {
   "cell_type": "code",
   "execution_count": 4,
   "metadata": {},
   "outputs": [
    {
     "name": "stdout",
     "output_type": "stream",
     "text": [
      "Attempt 1 failed for client_id 1556 with status 429. Retrying in 2 seconds.\n",
      "Attempt 2 failed for client_id 1556 with status 429. Retrying in 2 seconds.\n",
      "Attempt 3 failed for client_id 1556 with status 429. Retrying in 2 seconds.\n"
     ]
    },
    {
     "data": {
      "text/plain": [
       "{'client_id': '1556',\n",
       " 'values': {'2972': {'acct_open_date': '05/2008',\n",
       "   'card_brand': 'Mastercard',\n",
       "   'card_number': '5497590243197280',\n",
       "   'card_on_dark_web': 'No',\n",
       "   'card_type': 'Debit (Prepaid)',\n",
       "   'client_id': '1556',\n",
       "   'credit_limit': '$55',\n",
       "   'cvv': '306',\n",
       "   'expires': '07/2022',\n",
       "   'has_chip': 'YES',\n",
       "   'num_cards_issued': '2',\n",
       "   'year_pin_last_changed': '2008'},\n",
       "  '4333': {'acct_open_date': '08/2010',\n",
       "   'card_brand': 'Mastercard',\n",
       "   'card_number': '5225389722526534',\n",
       "   'card_on_dark_web': 'No',\n",
       "   'card_type': 'Debit',\n",
       "   'client_id': '1556',\n",
       "   'credit_limit': '$24772',\n",
       "   'cvv': '891',\n",
       "   'expires': '09/2023',\n",
       "   'has_chip': 'YES',\n",
       "   'num_cards_issued': '2',\n",
       "   'year_pin_last_changed': '2010'}}}"
      ]
     },
     "execution_count": 4,
     "metadata": {},
     "output_type": "execute_result"
    }
   ],
   "source": [
    "# fetch_client_data(1556)\n",
    "fetch_card_data(1556)"
   ]
  },
  {
   "cell_type": "markdown",
   "metadata": {},
   "source": [
    "# Load transactions data and fetch API data for unique clients (test mode)"
   ]
  },
  {
   "cell_type": "code",
   "execution_count": 67,
   "metadata": {},
   "outputs": [
    {
     "data": {
      "text/html": [
       "<div>\n",
       "<style scoped>\n",
       "    .dataframe tbody tr th:only-of-type {\n",
       "        vertical-align: middle;\n",
       "    }\n",
       "\n",
       "    .dataframe tbody tr th {\n",
       "        vertical-align: top;\n",
       "    }\n",
       "\n",
       "    .dataframe thead th {\n",
       "        text-align: right;\n",
       "    }\n",
       "</style>\n",
       "<table border=\"1\" class=\"dataframe\">\n",
       "  <thead>\n",
       "    <tr style=\"text-align: right;\">\n",
       "      <th></th>\n",
       "      <th>id</th>\n",
       "      <th>date</th>\n",
       "      <th>client_id</th>\n",
       "      <th>card_id</th>\n",
       "      <th>amount</th>\n",
       "      <th>use_chip</th>\n",
       "      <th>merchant_id</th>\n",
       "      <th>merchant_city</th>\n",
       "      <th>merchant_state</th>\n",
       "      <th>zip</th>\n",
       "      <th>mcc</th>\n",
       "    </tr>\n",
       "  </thead>\n",
       "  <tbody>\n",
       "    <tr>\n",
       "      <th>0</th>\n",
       "      <td>7475327</td>\n",
       "      <td>2010-01-01 00:01:00</td>\n",
       "      <td>1556</td>\n",
       "      <td>2972</td>\n",
       "      <td>-77.00</td>\n",
       "      <td>1</td>\n",
       "      <td>59935</td>\n",
       "      <td>Beulah</td>\n",
       "      <td>ND</td>\n",
       "      <td>58523.0</td>\n",
       "      <td>5499</td>\n",
       "    </tr>\n",
       "    <tr>\n",
       "      <th>1</th>\n",
       "      <td>7475328</td>\n",
       "      <td>2010-01-01 00:02:00</td>\n",
       "      <td>561</td>\n",
       "      <td>4575</td>\n",
       "      <td>14.57</td>\n",
       "      <td>1</td>\n",
       "      <td>67570</td>\n",
       "      <td>Bettendorf</td>\n",
       "      <td>IA</td>\n",
       "      <td>52722.0</td>\n",
       "      <td>5311</td>\n",
       "    </tr>\n",
       "    <tr>\n",
       "      <th>2</th>\n",
       "      <td>7475329</td>\n",
       "      <td>2010-01-01 00:02:00</td>\n",
       "      <td>1129</td>\n",
       "      <td>102</td>\n",
       "      <td>80.00</td>\n",
       "      <td>1</td>\n",
       "      <td>27092</td>\n",
       "      <td>Vista</td>\n",
       "      <td>CA</td>\n",
       "      <td>92084.0</td>\n",
       "      <td>4829</td>\n",
       "    </tr>\n",
       "    <tr>\n",
       "      <th>3</th>\n",
       "      <td>7475331</td>\n",
       "      <td>2010-01-01 00:05:00</td>\n",
       "      <td>430</td>\n",
       "      <td>2860</td>\n",
       "      <td>200.00</td>\n",
       "      <td>1</td>\n",
       "      <td>27092</td>\n",
       "      <td>Crown Point</td>\n",
       "      <td>IN</td>\n",
       "      <td>46307.0</td>\n",
       "      <td>4829</td>\n",
       "    </tr>\n",
       "    <tr>\n",
       "      <th>4</th>\n",
       "      <td>7475332</td>\n",
       "      <td>2010-01-01 00:06:00</td>\n",
       "      <td>848</td>\n",
       "      <td>3915</td>\n",
       "      <td>46.41</td>\n",
       "      <td>1</td>\n",
       "      <td>13051</td>\n",
       "      <td>Harwood</td>\n",
       "      <td>MD</td>\n",
       "      <td>20776.0</td>\n",
       "      <td>5813</td>\n",
       "    </tr>\n",
       "  </tbody>\n",
       "</table>\n",
       "</div>"
      ],
      "text/plain": [
       "        id                date  client_id  card_id  amount  use_chip  \\\n",
       "0  7475327 2010-01-01 00:01:00       1556     2972  -77.00         1   \n",
       "1  7475328 2010-01-01 00:02:00        561     4575   14.57         1   \n",
       "2  7475329 2010-01-01 00:02:00       1129      102   80.00         1   \n",
       "3  7475331 2010-01-01 00:05:00        430     2860  200.00         1   \n",
       "4  7475332 2010-01-01 00:06:00        848     3915   46.41         1   \n",
       "\n",
       "   merchant_id merchant_city merchant_state      zip   mcc  \n",
       "0        59935        Beulah             ND  58523.0  5499  \n",
       "1        67570    Bettendorf             IA  52722.0  5311  \n",
       "2        27092         Vista             CA  92084.0  4829  \n",
       "3        27092   Crown Point             IN  46307.0  4829  \n",
       "4        13051       Harwood             MD  20776.0  5813  "
      ]
     },
     "execution_count": 67,
     "metadata": {},
     "output_type": "execute_result"
    }
   ],
   "source": [
    "transactions_df = pd.read_csv('../data/raw/transactions_data.csv', nrows=1_000_000, parse_dates=['date'])\n",
    "transactions_df.drop('errors', axis=1, inplace=True)\n",
    "\n",
    "transactions_df['amount']=transactions_df['amount'].str.strip('$').astype(np.float32)\n",
    "# transactions_df['merchant_id'] = np.abs(transactions_df['merchant_id'])\n",
    "transactions_df['use_chip'] = np.where(transactions_df['use_chip'] == 'Swipe Transaction', 1, 0)\n",
    "\n",
    "transactions_df.head()\n",
    "# Original shape (13305915, 12)"
   ]
  },
  {
   "cell_type": "code",
   "execution_count": 7,
   "metadata": {},
   "outputs": [
    {
     "name": "stdout",
     "output_type": "stream",
     "text": [
      "CPU times: user 280 ms, sys: 44 ms, total: 324 ms\n",
      "Wall time: 326 ms\n"
     ]
    }
   ],
   "source": [
    "%%time\n",
    "cat_cols = ['client_id', 'card_id', 'use_chip', 'merchant_city', 'merchant_state', 'mcc', 'merchant_id', 'zip']\n",
    "\n",
    "for col in cat_cols:\n",
    "    transactions_df[col] = transactions_df[col].astype('category')"
   ]
  },
  {
   "cell_type": "code",
   "execution_count": 8,
   "metadata": {},
   "outputs": [
    {
     "name": "stdout",
     "output_type": "stream",
     "text": [
      "CPU times: user 18.7 ms, sys: 8.03 ms, total: 26.7 ms\n",
      "Wall time: 25 ms\n"
     ]
    }
   ],
   "source": [
    "%%time\n",
    "cat_cols = ['client_id', 'card_id', 'use_chip', 'merchant_city', 'merchant_state', 'mcc', 'merchant_id', 'zip']\n",
    "\n",
    "transactions_df[cat_cols] = transactions_df[cat_cols].astype('category')"
   ]
  },
  {
   "cell_type": "code",
   "execution_count": 9,
   "metadata": {},
   "outputs": [
    {
     "name": "stdout",
     "output_type": "stream",
     "text": [
      "<class 'pandas.core.frame.DataFrame'>\n",
      "RangeIndex: 1000000 entries, 0 to 999999\n",
      "Data columns (total 11 columns):\n",
      " #   Column          Non-Null Count    Dtype         \n",
      "---  ------          --------------    -----         \n",
      " 0   id              1000000 non-null  int64         \n",
      " 1   date            1000000 non-null  datetime64[ns]\n",
      " 2   client_id       1000000 non-null  category      \n",
      " 3   card_id         1000000 non-null  category      \n",
      " 4   amount          1000000 non-null  float32       \n",
      " 5   use_chip        1000000 non-null  category      \n",
      " 6   merchant_id     1000000 non-null  category      \n",
      " 7   merchant_city   1000000 non-null  category      \n",
      " 8   merchant_state  890869 non-null   category      \n",
      " 9   zip             884923 non-null   category      \n",
      " 10  mcc             1000000 non-null  category      \n",
      "dtypes: category(8), datetime64[ns](1), float32(1), int64(1)\n",
      "memory usage: 33.7 MB\n"
     ]
    }
   ],
   "source": [
    "transactions_df.info()"
   ]
  },
  {
   "cell_type": "code",
   "execution_count": 10,
   "metadata": {},
   "outputs": [],
   "source": [
    "UNIQUE_CLIENTS = transactions_df['client_id'].unique()\n",
    "# pd.Series(UNIQUE_CLIENTS).to_json('../data/processed/unique_clients.json')"
   ]
  },
  {
   "cell_type": "code",
   "execution_count": 11,
   "metadata": {},
   "outputs": [],
   "source": [
    "# Temporal for test\n",
    "UNIQUE_CLIENTS = UNIQUE_CLIENTS.copy()[:100]"
   ]
  },
  {
   "cell_type": "code",
   "execution_count": 12,
   "metadata": {},
   "outputs": [
    {
     "data": {
      "text/plain": [
       "[1556, 561, 1129, 430, 848, ..., 1209, 819, 1237, 1538, 1686]\n",
       "Length: 100\n",
       "Categories (1126, int64): [0, 1, 2, 3, ..., 1995, 1996, 1997, 1998]"
      ]
     },
     "execution_count": 12,
     "metadata": {},
     "output_type": "execute_result"
    }
   ],
   "source": [
    "UNIQUE_CLIENTS"
   ]
  },
  {
   "cell_type": "code",
   "execution_count": null,
   "metadata": {},
   "outputs": [],
   "source": [
    "client_data_list = []\n",
    "for client_id in UNIQUE_CLIENTS:\n",
    "    data = fetch_client_data(client_id)\n",
    "    if data:\n",
    "        client_data_list.append(data)"
   ]
  },
  {
   "cell_type": "code",
   "execution_count": 17,
   "metadata": {},
   "outputs": [],
   "source": [
    "card_data_list = []\n",
    "for client_id in UNIQUE_CLIENTS:\n",
    "    data = fetch_card_data(client_id)\n",
    "    if data:\n",
    "        card_data_list.append(data)"
   ]
  },
  {
   "cell_type": "markdown",
   "metadata": {},
   "source": [
    "### Merge data"
   ]
  },
  {
   "cell_type": "code",
   "execution_count": null,
   "metadata": {},
   "outputs": [],
   "source": [
    "client_df = pd.DataFrame([client['values'] for client in client_data_list])\n",
    "client_df['client_id'] = [client['client_id'] for client in client_data_list]\n",
    "client_df.head()"
   ]
  },
  {
   "cell_type": "code",
   "execution_count": 20,
   "metadata": {},
   "outputs": [
    {
     "name": "stdout",
     "output_type": "stream",
     "text": [
      "<class 'pandas.core.frame.DataFrame'>\n",
      "RangeIndex: 10 entries, 0 to 9\n",
      "Data columns (total 14 columns):\n",
      " #   Column             Non-Null Count  Dtype \n",
      "---  ------             --------------  ----- \n",
      " 0   address            10 non-null     object\n",
      " 1   birth_month        10 non-null     object\n",
      " 2   birth_year         10 non-null     object\n",
      " 3   credit_score       10 non-null     object\n",
      " 4   current_age        10 non-null     object\n",
      " 5   gender             10 non-null     object\n",
      " 6   latitude           10 non-null     object\n",
      " 7   longitude          10 non-null     object\n",
      " 8   num_credit_cards   10 non-null     object\n",
      " 9   per_capita_income  10 non-null     object\n",
      " 10  retirement_age     10 non-null     object\n",
      " 11  total_debt         10 non-null     object\n",
      " 12  yearly_income      10 non-null     object\n",
      " 13  client_id          10 non-null     object\n",
      "dtypes: object(14)\n",
      "memory usage: 1.2+ KB\n"
     ]
    }
   ],
   "source": [
    "client_df.info()"
   ]
  },
  {
   "cell_type": "code",
   "execution_count": 19,
   "metadata": {},
   "outputs": [
    {
     "data": {
      "text/html": [
       "<div>\n",
       "<style scoped>\n",
       "    .dataframe tbody tr th:only-of-type {\n",
       "        vertical-align: middle;\n",
       "    }\n",
       "\n",
       "    .dataframe tbody tr th {\n",
       "        vertical-align: top;\n",
       "    }\n",
       "\n",
       "    .dataframe thead th {\n",
       "        text-align: right;\n",
       "    }\n",
       "</style>\n",
       "<table border=\"1\" class=\"dataframe\">\n",
       "  <thead>\n",
       "    <tr style=\"text-align: right;\">\n",
       "      <th></th>\n",
       "      <th>acct_open_date</th>\n",
       "      <th>card_brand</th>\n",
       "      <th>card_number</th>\n",
       "      <th>card_on_dark_web</th>\n",
       "      <th>card_type</th>\n",
       "      <th>client_id</th>\n",
       "      <th>credit_limit</th>\n",
       "      <th>cvv</th>\n",
       "      <th>expires</th>\n",
       "      <th>has_chip</th>\n",
       "      <th>num_cards_issued</th>\n",
       "      <th>year_pin_last_changed</th>\n",
       "      <th>card_id</th>\n",
       "    </tr>\n",
       "  </thead>\n",
       "  <tbody>\n",
       "    <tr>\n",
       "      <th>0</th>\n",
       "      <td>05/2008</td>\n",
       "      <td>Mastercard</td>\n",
       "      <td>5497590243197280</td>\n",
       "      <td>No</td>\n",
       "      <td>Debit (Prepaid)</td>\n",
       "      <td>1556</td>\n",
       "      <td>$55</td>\n",
       "      <td>306</td>\n",
       "      <td>07/2022</td>\n",
       "      <td>YES</td>\n",
       "      <td>2</td>\n",
       "      <td>2008</td>\n",
       "      <td>2972</td>\n",
       "    </tr>\n",
       "    <tr>\n",
       "      <th>1</th>\n",
       "      <td>08/2010</td>\n",
       "      <td>Mastercard</td>\n",
       "      <td>5225389722526534</td>\n",
       "      <td>No</td>\n",
       "      <td>Debit</td>\n",
       "      <td>1556</td>\n",
       "      <td>$24772</td>\n",
       "      <td>891</td>\n",
       "      <td>09/2023</td>\n",
       "      <td>YES</td>\n",
       "      <td>2</td>\n",
       "      <td>2010</td>\n",
       "      <td>4333</td>\n",
       "    </tr>\n",
       "    <tr>\n",
       "      <th>2</th>\n",
       "      <td>04/2013</td>\n",
       "      <td>Mastercard</td>\n",
       "      <td>5918296616309874</td>\n",
       "      <td>No</td>\n",
       "      <td>Debit (Prepaid)</td>\n",
       "      <td>561</td>\n",
       "      <td>$69</td>\n",
       "      <td>983</td>\n",
       "      <td>05/2024</td>\n",
       "      <td>YES</td>\n",
       "      <td>1</td>\n",
       "      <td>2013</td>\n",
       "      <td>2716</td>\n",
       "    </tr>\n",
       "    <tr>\n",
       "      <th>3</th>\n",
       "      <td>07/2006</td>\n",
       "      <td>Mastercard</td>\n",
       "      <td>5250625336912959</td>\n",
       "      <td>No</td>\n",
       "      <td>Debit</td>\n",
       "      <td>561</td>\n",
       "      <td>$26960</td>\n",
       "      <td>326</td>\n",
       "      <td>04/2022</td>\n",
       "      <td>YES</td>\n",
       "      <td>1</td>\n",
       "      <td>2010</td>\n",
       "      <td>3764</td>\n",
       "    </tr>\n",
       "    <tr>\n",
       "      <th>4</th>\n",
       "      <td>09/2005</td>\n",
       "      <td>Mastercard</td>\n",
       "      <td>5175842699412235</td>\n",
       "      <td>No</td>\n",
       "      <td>Credit</td>\n",
       "      <td>561</td>\n",
       "      <td>$9100</td>\n",
       "      <td>438</td>\n",
       "      <td>12/2024</td>\n",
       "      <td>YES</td>\n",
       "      <td>1</td>\n",
       "      <td>2015</td>\n",
       "      <td>4575</td>\n",
       "    </tr>\n",
       "  </tbody>\n",
       "</table>\n",
       "</div>"
      ],
      "text/plain": [
       "  acct_open_date  card_brand       card_number card_on_dark_web  \\\n",
       "0        05/2008  Mastercard  5497590243197280               No   \n",
       "1        08/2010  Mastercard  5225389722526534               No   \n",
       "2        04/2013  Mastercard  5918296616309874               No   \n",
       "3        07/2006  Mastercard  5250625336912959               No   \n",
       "4        09/2005  Mastercard  5175842699412235               No   \n",
       "\n",
       "         card_type client_id credit_limit  cvv  expires has_chip  \\\n",
       "0  Debit (Prepaid)      1556          $55  306  07/2022      YES   \n",
       "1            Debit      1556       $24772  891  09/2023      YES   \n",
       "2  Debit (Prepaid)       561          $69  983  05/2024      YES   \n",
       "3            Debit       561       $26960  326  04/2022      YES   \n",
       "4           Credit       561        $9100  438  12/2024      YES   \n",
       "\n",
       "  num_cards_issued year_pin_last_changed card_id  \n",
       "0                2                  2008    2972  \n",
       "1                2                  2010    4333  \n",
       "2                1                  2013    2716  \n",
       "3                1                  2010    3764  \n",
       "4                1                  2015    4575  "
      ]
     },
     "execution_count": 19,
     "metadata": {},
     "output_type": "execute_result"
    }
   ],
   "source": [
    "cards = []\n",
    "for card_entry in card_data_list:\n",
    "    client_id = card_entry['client_id']\n",
    "    for card_id, card_info in card_entry['values'].items():\n",
    "        card_info['card_id'] = card_id\n",
    "        card_info['client_id'] = client_id\n",
    "        cards.append(card_info)\n",
    "\n",
    "card_df = pd.DataFrame(cards)\n",
    "card_df.head()"
   ]
  },
  {
   "cell_type": "markdown",
   "metadata": {},
   "source": [
    "# After manual download of card/client data"
   ]
  },
  {
   "cell_type": "code",
   "execution_count": 5,
   "metadata": {},
   "outputs": [],
   "source": [
    "from src.data.data_processing import load_transactions_data"
   ]
  },
  {
   "cell_type": "code",
   "execution_count": 57,
   "metadata": {},
   "outputs": [
    {
     "name": "stderr",
     "output_type": "stream",
     "text": [
      "/tmp/ipykernel_103262/3816895104.py:2: UserWarning: Could not infer format, so each element will be parsed individually, falling back to `dateutil`. To ensure parsing is consistent and as-expected, please specify a format.\n",
      "  cards_df = pd.read_csv('../data/raw/cards_data.csv', parse_dates=['expires', 'acct_open_date'])\n",
      "/tmp/ipykernel_103262/3816895104.py:2: UserWarning: Could not infer format, so each element will be parsed individually, falling back to `dateutil`. To ensure parsing is consistent and as-expected, please specify a format.\n",
      "  cards_df = pd.read_csv('../data/raw/cards_data.csv', parse_dates=['expires', 'acct_open_date'])\n"
     ]
    }
   ],
   "source": [
    "client_df = pd.read_csv('../data/raw/users_data.csv')\n",
    "cards_df = pd.read_csv('../data/raw/cards_data.csv', parse_dates=['expires', 'acct_open_date'])"
   ]
  },
  {
   "cell_type": "code",
   "execution_count": 68,
   "metadata": {},
   "outputs": [
    {
     "name": "stdout",
     "output_type": "stream",
     "text": [
      "     id  client_id  card_brand        card_type    expires has_chip  \\\n",
      "0  4524        825        Visa            Debit 2022-12-01      YES   \n",
      "1  2731        825        Visa            Debit 2020-12-01      YES   \n",
      "2  3701        825        Visa            Debit 2024-02-01      YES   \n",
      "3    42        825        Visa           Credit 2024-08-01       NO   \n",
      "4  4659        825  Mastercard  Debit (Prepaid) 2009-03-01      YES   \n",
      "\n",
      "   num_cards_issued  credit_limit acct_open_date  year_pin_last_changed  \\\n",
      "0                 2         24295     2002-09-01                   2008   \n",
      "1                 2         21968     2014-04-01                   2014   \n",
      "2                 2         46414     2003-07-01                   2004   \n",
      "3                 1         12400     2003-01-01                   2012   \n",
      "4                 1            28     2008-09-01                   2009   \n",
      "\n",
      "  card_on_dark_web  \n",
      "0               No  \n",
      "1               No  \n",
      "2               No  \n",
      "3               No  \n",
      "4               No  \n"
     ]
    }
   ],
   "source": [
    "def optimize_client_dataframe(df):\n",
    "    # Define column lists\n",
    "    int_cols = ['id', 'current_age', 'retirement_age', 'birth_year', 'birth_month', 'credit_score', 'num_credit_cards']\n",
    "    float_cols = ['latitude', 'longitude']\n",
    "    currency_cols = ['per_capita_income', 'yearly_income', 'total_debt']\n",
    "    cat_cols = ['gender', 'address']\n",
    "    \n",
    "    # Downcast integer columns\n",
    "    df[int_cols] = df[int_cols].astype('int32')\n",
    "    \n",
    "    # Downcast float columns\n",
    "    df[float_cols] = df[float_cols].astype('float32')\n",
    "    for col in float_cols:\n",
    "        df[col] = round(df[col])\n",
    "    \n",
    "    # Strip '$' and downcast currency columns\n",
    "    df[currency_cols] = df[currency_cols].str.strip('$').astype('int32')\n",
    "    \n",
    "    # Optimize categorical columns by converting to 'category' type\n",
    "    df[cat_cols] = df[cat_cols].astype('category')\n",
    "    \n",
    "    return df\n",
    "\n",
    "def optimize_card_dataframe(df):\n",
    "    # Define column lists\n",
    "    int_cols = ['id', 'client_id', 'num_cards_issued', 'year_pin_last_changed']\n",
    "    currency_cols = 'credit_limit'\n",
    "    cat_cols = ['card_brand', 'card_type', 'has_chip', 'card_on_dark_web']\n",
    "    \n",
    "    # Drop sensitive columns\n",
    "    df = df.drop(columns=['cvv', 'card_number'])\n",
    "    \n",
    "    # Downcast integer columns\n",
    "    df[int_cols] = df[int_cols].astype('int32')\n",
    "    \n",
    "    # Strip '$' and downcast currency columns\n",
    "    df[currency_cols] = df[currency_cols].str.strip('$').astype('int32')\n",
    "    \n",
    "    # Optimize categorical columns\n",
    "    df[cat_cols] = df[cat_cols].astype('category')\n",
    "    \n",
    "    return df"
   ]
  }
 ],
 "metadata": {
  "kernelspec": {
   "display_name": "nuwe",
   "language": "python",
   "name": "python3"
  },
  "language_info": {
   "codemirror_mode": {
    "name": "ipython",
    "version": 3
   },
   "file_extension": ".py",
   "mimetype": "text/x-python",
   "name": "python",
   "nbconvert_exporter": "python",
   "pygments_lexer": "ipython3",
   "version": "3.10.15"
  }
 },
 "nbformat": 4,
 "nbformat_minor": 2
}
