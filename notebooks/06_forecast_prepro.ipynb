{
 "cells": [
  {
   "cell_type": "code",
   "execution_count": 1,
   "metadata": {},
   "outputs": [],
   "source": [
    "import os\n",
    "import sys\n",
    "import pandas as pd\n",
    "import polars as pl\n",
    "import numpy as np\n",
    "import json\n",
    "import random\n",
    "import matplotlib.pyplot as plt\n",
    "import lightgbm as lgb\n",
    "from sklearn.model_selection import TimeSeriesSplit, cross_validate\n",
    "\n",
    "\n",
    "# root path\n",
    "ROOT = os.path.abspath(os.path.join(os.getcwd(), '..'))\n",
    "\n",
    "# Add the project root to the Python path\n",
    "if ROOT not in sys.path:\n",
    "    sys.path.append(ROOT)\n",
    "\n",
    "from src.data.data_processing import FraudPreProcessor\n",
    "\n",
    "import warnings\n",
    "warnings.filterwarnings('ignore')"
   ]
  },
  {
   "cell_type": "code",
   "execution_count": 2,
   "metadata": {},
   "outputs": [],
   "source": [
    "def pickelup_client_data(file_path):\n",
    "    client_df = pd.read_pickle(file_path)\n",
    "    return client_df\n",
    "\n",
    "def pickelup_card_data(file_path):\n",
    "    card_df = pd.read_pickle(file_path)\n",
    "    return card_df\n",
    "\n",
    "def query_unique_id(df, unique_id=None, target_col='y'):\n",
    "    \"\"\"Filters a DataFrame by unique_id (or a random one) and plots the resulting time series.\"\"\"\n",
    "    # Select random client if none specified\n",
    "    unique_id = unique_id or random.choice(df['unique_id'].unique())\n",
    "    \n",
    "    # Filter dataframe\n",
    "    query_df = df[df['unique_id'] == unique_id]\n",
    "    \n",
    "    if not query_df.empty:\n",
    "        plt.figure(figsize=(10, 6))\n",
    "        # Correct way to plot using DataFrame\n",
    "        plt.plot(query_df['ds'], query_df[target_col])\n",
    "        \n",
    "        # Add labels and title\n",
    "        plt.title(f'Time Series for Client {unique_id}')\n",
    "        plt.xlabel('Date')\n",
    "        plt.ylabel(target_col)\n",
    "        \n",
    "        # Rotate x-axis labels for better readability\n",
    "        plt.xticks(rotation=45)\n",
    "        \n",
    "        # Adjust layout to prevent label cutoff\n",
    "        plt.tight_layout()\n",
    "        plt.show()\n",
    "    else:\n",
    "        print(f\"No data found for unique_id: {unique_id}\")\n",
    "    \n",
    "    return query_df"
   ]
  },
  {
   "cell_type": "code",
   "execution_count": 3,
   "metadata": {},
   "outputs": [],
   "source": [
    "DATA_PATH = os.path.join(ROOT, 'data', 'raw', 'transactions_data.csv')\n",
    "CLIENT_DATA_PATH = os.path.join(ROOT, 'data', 'processed', 'client_df.pkl')\n",
    "\n",
    "PREDICTION_IDS_PATH = os.path.join(ROOT, 'predictions', 'predictions_4.json')\n",
    "\n",
    "CLEAN_DATA_PATH = os.path.join(ROOT, 'data', 'processed', 'forecast_clean.csv')\n",
    "CLEAN_CLIENT_PATH = os.path.join(ROOT, 'data', 'processed', 'client_clean.pkl')"
   ]
  },
  {
   "cell_type": "markdown",
   "metadata": {},
   "source": [
    "# Check client 1649\n",
    "\n",
    "Segun submission:\n",
    "\n",
    "```\n",
    "\"1649\": {\n",
    "            \"2019-11\": 0,\n",
    "            \"2019-12\": 0,\n",
    "            \"2020-01\": 0\n",
    "```\n",
    "\n",
    "Segun yo:\n",
    "\n",
    "```\n",
    "\"1649\": {\n",
    "      \"2015-10\": 36.78,\n",
    "      \"2015-11\": 35.85,\n",
    "      \"2015-12\": 40.09\n",
    "    },"
   ]
  },
  {
   "cell_type": "code",
   "execution_count": null,
   "metadata": {},
   "outputs": [],
   "source": [
    "raw = pl.read_csv(DATA_PATH).to_pandas().rename(columns={'date': 'ds', \n",
    "                'amount_clean': 'y',\n",
    "                'client_id': 'unique_id'})"
   ]
  },
  {
   "cell_type": "code",
   "execution_count": 10,
   "metadata": {},
   "outputs": [
    {
     "data": {
      "text/plain": [
       "8808        2010-01-03 15:45:00\n",
       "9748        2010-01-03 23:37:00\n",
       "12812       2010-01-04 21:18:00\n",
       "24405       2010-01-08 12:44:00\n",
       "34415       2010-01-11 13:21:00\n",
       "                   ...         \n",
       "13271395    2019-10-22 19:54:00\n",
       "13273698    2019-10-23 13:28:00\n",
       "13290859    2019-10-27 23:38:00\n",
       "13293086    2019-10-28 13:22:00\n",
       "13298096    2019-10-29 21:08:00\n",
       "Name: ds, Length: 2336, dtype: object"
      ]
     },
     "execution_count": 10,
     "metadata": {},
     "output_type": "execute_result"
    }
   ],
   "source": [
    "raw.query('unique_id == 1649')['ds'].sort_values()"
   ]
  },
  {
   "cell_type": "code",
   "execution_count": 16,
   "metadata": {},
   "outputs": [
    {
     "name": "stdout",
     "output_type": "stream",
     "text": [
      "Processing transactions data...\n"
     ]
    },
    {
     "data": {
      "text/html": [
       "<div>\n",
       "<style scoped>\n",
       "    .dataframe tbody tr th:only-of-type {\n",
       "        vertical-align: middle;\n",
       "    }\n",
       "\n",
       "    .dataframe tbody tr th {\n",
       "        vertical-align: top;\n",
       "    }\n",
       "\n",
       "    .dataframe thead th {\n",
       "        text-align: right;\n",
       "    }\n",
       "</style>\n",
       "<table border=\"1\" class=\"dataframe\">\n",
       "  <thead>\n",
       "    <tr style=\"text-align: right;\">\n",
       "      <th></th>\n",
       "      <th>client_id</th>\n",
       "      <th>amount_clean</th>\n",
       "      <th>date</th>\n",
       "    </tr>\n",
       "  </thead>\n",
       "  <tbody>\n",
       "    <tr>\n",
       "      <th>0</th>\n",
       "      <td>1556</td>\n",
       "      <td>-77.0</td>\n",
       "      <td>2010-01-01 00:01:00</td>\n",
       "    </tr>\n",
       "    <tr>\n",
       "      <th>1</th>\n",
       "      <td>561</td>\n",
       "      <td>0.0</td>\n",
       "      <td>2010-01-01 00:02:00</td>\n",
       "    </tr>\n",
       "    <tr>\n",
       "      <th>2</th>\n",
       "      <td>1129</td>\n",
       "      <td>0.0</td>\n",
       "      <td>2010-01-01 00:02:00</td>\n",
       "    </tr>\n",
       "    <tr>\n",
       "      <th>3</th>\n",
       "      <td>430</td>\n",
       "      <td>0.0</td>\n",
       "      <td>2010-01-01 00:05:00</td>\n",
       "    </tr>\n",
       "    <tr>\n",
       "      <th>4</th>\n",
       "      <td>848</td>\n",
       "      <td>0.0</td>\n",
       "      <td>2010-01-01 00:06:00</td>\n",
       "    </tr>\n",
       "    <tr>\n",
       "      <th>...</th>\n",
       "      <td>...</td>\n",
       "      <td>...</td>\n",
       "      <td>...</td>\n",
       "    </tr>\n",
       "    <tr>\n",
       "      <th>13305910</th>\n",
       "      <td>1718</td>\n",
       "      <td>0.0</td>\n",
       "      <td>2019-10-31 23:56:00</td>\n",
       "    </tr>\n",
       "    <tr>\n",
       "      <th>13305911</th>\n",
       "      <td>1766</td>\n",
       "      <td>0.0</td>\n",
       "      <td>2019-10-31 23:56:00</td>\n",
       "    </tr>\n",
       "    <tr>\n",
       "      <th>13305912</th>\n",
       "      <td>199</td>\n",
       "      <td>0.0</td>\n",
       "      <td>2019-10-31 23:57:00</td>\n",
       "    </tr>\n",
       "    <tr>\n",
       "      <th>13305913</th>\n",
       "      <td>1986</td>\n",
       "      <td>0.0</td>\n",
       "      <td>2019-10-31 23:58:00</td>\n",
       "    </tr>\n",
       "    <tr>\n",
       "      <th>13305914</th>\n",
       "      <td>489</td>\n",
       "      <td>0.0</td>\n",
       "      <td>2019-10-31 23:59:00</td>\n",
       "    </tr>\n",
       "  </tbody>\n",
       "</table>\n",
       "<p>13305915 rows × 3 columns</p>\n",
       "</div>"
      ],
      "text/plain": [
       "          client_id  amount_clean                date\n",
       "0              1556         -77.0 2010-01-01 00:01:00\n",
       "1               561           0.0 2010-01-01 00:02:00\n",
       "2              1129           0.0 2010-01-01 00:02:00\n",
       "3               430           0.0 2010-01-01 00:05:00\n",
       "4               848           0.0 2010-01-01 00:06:00\n",
       "...             ...           ...                 ...\n",
       "13305910       1718           0.0 2019-10-31 23:56:00\n",
       "13305911       1766           0.0 2019-10-31 23:56:00\n",
       "13305912        199           0.0 2019-10-31 23:57:00\n",
       "13305913       1986           0.0 2019-10-31 23:58:00\n",
       "13305914        489           0.0 2019-10-31 23:59:00\n",
       "\n",
       "[13305915 rows x 3 columns]"
      ]
     },
     "execution_count": 16,
     "metadata": {},
     "output_type": "execute_result"
    }
   ],
   "source": [
    "transactions, _ = FraudPreProcessor().pl_load_transactions_data(DATA_PATH)\n",
    "transactions = transactions.with_columns(pl.col('client_id').cast(pl.Int64).alias('client_id'))\n",
    "\n",
    "# NOT FILTER. Load all data but replace incomes for 0 expenses\n",
    "expenses = transactions.with_columns(pl.when(pl.col('amount_clean') > 0).then(0).otherwise(pl.col('amount_clean')).alias('amount_clean')).to_pandas()\n",
    "expenses"
   ]
  },
  {
   "cell_type": "code",
   "execution_count": 17,
   "metadata": {},
   "outputs": [
    {
     "data": {
      "text/html": [
       "<div>\n",
       "<style scoped>\n",
       "    .dataframe tbody tr th:only-of-type {\n",
       "        vertical-align: middle;\n",
       "    }\n",
       "\n",
       "    .dataframe tbody tr th {\n",
       "        vertical-align: top;\n",
       "    }\n",
       "\n",
       "    .dataframe thead th {\n",
       "        text-align: right;\n",
       "    }\n",
       "</style>\n",
       "<table border=\"1\" class=\"dataframe\">\n",
       "  <thead>\n",
       "    <tr style=\"text-align: right;\">\n",
       "      <th></th>\n",
       "      <th>client_id</th>\n",
       "      <th>amount_clean</th>\n",
       "      <th>date</th>\n",
       "    </tr>\n",
       "  </thead>\n",
       "  <tbody>\n",
       "    <tr>\n",
       "      <th>8808</th>\n",
       "      <td>1649</td>\n",
       "      <td>0.0</td>\n",
       "      <td>2010-01-03 15:45:00</td>\n",
       "    </tr>\n",
       "    <tr>\n",
       "      <th>9748</th>\n",
       "      <td>1649</td>\n",
       "      <td>0.0</td>\n",
       "      <td>2010-01-03 23:37:00</td>\n",
       "    </tr>\n",
       "    <tr>\n",
       "      <th>12812</th>\n",
       "      <td>1649</td>\n",
       "      <td>0.0</td>\n",
       "      <td>2010-01-04 21:18:00</td>\n",
       "    </tr>\n",
       "    <tr>\n",
       "      <th>24405</th>\n",
       "      <td>1649</td>\n",
       "      <td>0.0</td>\n",
       "      <td>2010-01-08 12:44:00</td>\n",
       "    </tr>\n",
       "    <tr>\n",
       "      <th>34415</th>\n",
       "      <td>1649</td>\n",
       "      <td>0.0</td>\n",
       "      <td>2010-01-11 13:21:00</td>\n",
       "    </tr>\n",
       "    <tr>\n",
       "      <th>...</th>\n",
       "      <td>...</td>\n",
       "      <td>...</td>\n",
       "      <td>...</td>\n",
       "    </tr>\n",
       "    <tr>\n",
       "      <th>13271395</th>\n",
       "      <td>1649</td>\n",
       "      <td>0.0</td>\n",
       "      <td>2019-10-22 19:54:00</td>\n",
       "    </tr>\n",
       "    <tr>\n",
       "      <th>13273698</th>\n",
       "      <td>1649</td>\n",
       "      <td>0.0</td>\n",
       "      <td>2019-10-23 13:28:00</td>\n",
       "    </tr>\n",
       "    <tr>\n",
       "      <th>13290859</th>\n",
       "      <td>1649</td>\n",
       "      <td>0.0</td>\n",
       "      <td>2019-10-27 23:38:00</td>\n",
       "    </tr>\n",
       "    <tr>\n",
       "      <th>13293086</th>\n",
       "      <td>1649</td>\n",
       "      <td>0.0</td>\n",
       "      <td>2019-10-28 13:22:00</td>\n",
       "    </tr>\n",
       "    <tr>\n",
       "      <th>13298096</th>\n",
       "      <td>1649</td>\n",
       "      <td>0.0</td>\n",
       "      <td>2019-10-29 21:08:00</td>\n",
       "    </tr>\n",
       "  </tbody>\n",
       "</table>\n",
       "<p>2336 rows × 3 columns</p>\n",
       "</div>"
      ],
      "text/plain": [
       "          client_id  amount_clean                date\n",
       "8808           1649           0.0 2010-01-03 15:45:00\n",
       "9748           1649           0.0 2010-01-03 23:37:00\n",
       "12812          1649           0.0 2010-01-04 21:18:00\n",
       "24405          1649           0.0 2010-01-08 12:44:00\n",
       "34415          1649           0.0 2010-01-11 13:21:00\n",
       "...             ...           ...                 ...\n",
       "13271395       1649           0.0 2019-10-22 19:54:00\n",
       "13273698       1649           0.0 2019-10-23 13:28:00\n",
       "13290859       1649           0.0 2019-10-27 23:38:00\n",
       "13293086       1649           0.0 2019-10-28 13:22:00\n",
       "13298096       1649           0.0 2019-10-29 21:08:00\n",
       "\n",
       "[2336 rows x 3 columns]"
      ]
     },
     "execution_count": 17,
     "metadata": {},
     "output_type": "execute_result"
    }
   ],
   "source": [
    "expenses.query('client_id == 1649').sort_values('date')"
   ]
  },
  {
   "cell_type": "markdown",
   "metadata": {},
   "source": [
    "### Compare unique ids with submission file"
   ]
  },
  {
   "cell_type": "code",
   "execution_count": 18,
   "metadata": {},
   "outputs": [],
   "source": [
    "with open(PREDICTION_IDS_PATH, 'r') as f:\n",
    "    predictions_template = json.load(f)"
   ]
  },
  {
   "cell_type": "code",
   "execution_count": 19,
   "metadata": {},
   "outputs": [],
   "source": [
    "def json_to_df(data):\n",
    "    \"\"\"\n",
    "    Convert nested JSON with structure:\n",
    "    {'target': {'id1': {'date1': value1, 'date2': value2}, 'id2': {...}}}\n",
    "    to DataFrame with columns: unique_id, date, value\n",
    "    \"\"\"\n",
    "    rows = []\n",
    "    \n",
    "    # Iterate through the nested structure\n",
    "    for unique_id, dates in data['target'].items():\n",
    "        for date, value in dates.items():\n",
    "            rows.append({\n",
    "                'unique_id': unique_id,\n",
    "                'date': pd.to_datetime(date),  # Convert to datetime\n",
    "                'value': value\n",
    "            })\n",
    "    \n",
    "    # Create DataFrame from rows\n",
    "    df = pd.DataFrame(rows)\n",
    "    \n",
    "    # Sort by date and unique_id\n",
    "    df = df.sort_values(['date', 'unique_id'])\n",
    "    \n",
    "    return df\n",
    "\n",
    "predictions_template_df = json_to_df(predictions_template)"
   ]
  },
  {
   "cell_type": "code",
   "execution_count": 20,
   "metadata": {},
   "outputs": [
    {
     "name": "stdout",
     "output_type": "stream",
     "text": [
      "Number of unique ids: 1219\n",
      "\n",
      "Number of dates: 52\n",
      "\n",
      "Range of dates: 2013-02-01 00:00:00 to 2020-01-01 00:00:00\n",
      "\n"
     ]
    }
   ],
   "source": [
    "print(f\"Number of unique ids: {predictions_template_df['unique_id'].nunique()}\\n\")\n",
    "print(f\"Number of dates: {predictions_template_df['date'].nunique()}\\n\")\n",
    "print(f\"Range of dates: {predictions_template_df['date'].min()} to {predictions_template_df['date'].max()}\\n\")\n",
    "submission_ids = set(predictions_template_df['unique_id'].unique())"
   ]
  },
  {
   "cell_type": "code",
   "execution_count": 21,
   "metadata": {},
   "outputs": [
    {
     "name": "stdout",
     "output_type": "stream",
     "text": [
      "Number of unique ids: 1219\n",
      "\n",
      "Number of dates: 4136496\n",
      "\n",
      "Range of dates: 2010-01-01 00:01:00 to 2019-10-31 23:59:00\n",
      "\n"
     ]
    }
   ],
   "source": [
    "print(f\"Number of unique ids: {expenses['client_id'].nunique()}\\n\")\n",
    "print(f\"Number of dates: {expenses['date'].nunique()}\\n\")\n",
    "print(f\"Range of dates: {expenses['date'].min()} to {expenses['date'].max()}\\n\")\n",
    "expenses_ids = set(expenses['client_id'].astype(str).unique())"
   ]
  },
  {
   "cell_type": "code",
   "execution_count": 22,
   "metadata": {},
   "outputs": [
    {
     "data": {
      "text/plain": [
       "set()"
      ]
     },
     "execution_count": 22,
     "metadata": {},
     "output_type": "execute_result"
    }
   ],
   "source": [
    "expenses_ids.difference(submission_ids)"
   ]
  },
  {
   "cell_type": "code",
   "execution_count": 23,
   "metadata": {},
   "outputs": [
    {
     "data": {
      "text/plain": [
       "set()"
      ]
     },
     "execution_count": 23,
     "metadata": {},
     "output_type": "execute_result"
    }
   ],
   "source": [
    "submission_ids.difference(expenses_ids)"
   ]
  },
  {
   "cell_type": "markdown",
   "metadata": {},
   "source": [
    "### Resample data to month"
   ]
  },
  {
   "cell_type": "code",
   "execution_count": 24,
   "metadata": {},
   "outputs": [],
   "source": [
    "data = (\n",
    "    expenses.sort_values(by=['client_id', 'date'])\n",
    "    .set_index('date')\n",
    "    .groupby('client_id')\n",
    "    .resample('ME')['amount_clean']\n",
    "    .sum()\n",
    "    .reset_index()\n",
    ").rename(columns={'date': 'ds', \n",
    "                'amount_clean': 'y',\n",
    "                'client_id': 'unique_id'})"
   ]
  },
  {
   "cell_type": "code",
   "execution_count": 25,
   "metadata": {},
   "outputs": [
    {
     "data": {
      "image/png": "[encoded data removed]",
      "text/plain": [
       "<Figure size 1000x600 with 1 Axes>"
      ]
     },
     "metadata": {},
     "output_type": "display_data"
    },
    {
     "data": {
      "text/html": [
       "<div>\n",
       "<style scoped>\n",
       "    .dataframe tbody tr th:only-of-type {\n",
       "        vertical-align: middle;\n",
       "    }\n",
       "\n",
       "    .dataframe tbody tr th {\n",
       "        vertical-align: top;\n",
       "    }\n",
       "\n",
       "    .dataframe thead th {\n",
       "        text-align: right;\n",
       "    }\n",
       "</style>\n",
       "<table border=\"1\" class=\"dataframe\">\n",
       "  <thead>\n",
       "    <tr style=\"text-align: right;\">\n",
       "      <th></th>\n",
       "      <th>unique_id</th>\n",
       "      <th>ds</th>\n",
       "      <th>y</th>\n",
       "    </tr>\n",
       "  </thead>\n",
       "  <tbody>\n",
       "    <tr>\n",
       "      <th>42855</th>\n",
       "      <td>623</td>\n",
       "      <td>2010-01-31</td>\n",
       "      <td>-987.0</td>\n",
       "    </tr>\n",
       "    <tr>\n",
       "      <th>42856</th>\n",
       "      <td>623</td>\n",
       "      <td>2010-02-28</td>\n",
       "      <td>-250.0</td>\n",
       "    </tr>\n",
       "    <tr>\n",
       "      <th>42857</th>\n",
       "      <td>623</td>\n",
       "      <td>2010-03-31</td>\n",
       "      <td>-1452.0</td>\n",
       "    </tr>\n",
       "    <tr>\n",
       "      <th>42858</th>\n",
       "      <td>623</td>\n",
       "      <td>2010-04-30</td>\n",
       "      <td>-300.0</td>\n",
       "    </tr>\n",
       "    <tr>\n",
       "      <th>42859</th>\n",
       "      <td>623</td>\n",
       "      <td>2010-05-31</td>\n",
       "      <td>-285.0</td>\n",
       "    </tr>\n",
       "    <tr>\n",
       "      <th>...</th>\n",
       "      <td>...</td>\n",
       "      <td>...</td>\n",
       "      <td>...</td>\n",
       "    </tr>\n",
       "    <tr>\n",
       "      <th>42968</th>\n",
       "      <td>623</td>\n",
       "      <td>2019-06-30</td>\n",
       "      <td>-1263.0</td>\n",
       "    </tr>\n",
       "    <tr>\n",
       "      <th>42969</th>\n",
       "      <td>623</td>\n",
       "      <td>2019-07-31</td>\n",
       "      <td>-655.0</td>\n",
       "    </tr>\n",
       "    <tr>\n",
       "      <th>42970</th>\n",
       "      <td>623</td>\n",
       "      <td>2019-08-31</td>\n",
       "      <td>-1221.0</td>\n",
       "    </tr>\n",
       "    <tr>\n",
       "      <th>42971</th>\n",
       "      <td>623</td>\n",
       "      <td>2019-09-30</td>\n",
       "      <td>-745.0</td>\n",
       "    </tr>\n",
       "    <tr>\n",
       "      <th>42972</th>\n",
       "      <td>623</td>\n",
       "      <td>2019-10-31</td>\n",
       "      <td>-370.0</td>\n",
       "    </tr>\n",
       "  </tbody>\n",
       "</table>\n",
       "<p>118 rows × 3 columns</p>\n",
       "</div>"
      ],
      "text/plain": [
       "       unique_id         ds       y\n",
       "42855        623 2010-01-31  -987.0\n",
       "42856        623 2010-02-28  -250.0\n",
       "42857        623 2010-03-31 -1452.0\n",
       "42858        623 2010-04-30  -300.0\n",
       "42859        623 2010-05-31  -285.0\n",
       "...          ...        ...     ...\n",
       "42968        623 2019-06-30 -1263.0\n",
       "42969        623 2019-07-31  -655.0\n",
       "42970        623 2019-08-31 -1221.0\n",
       "42971        623 2019-09-30  -745.0\n",
       "42972        623 2019-10-31  -370.0\n",
       "\n",
       "[118 rows x 3 columns]"
      ]
     },
     "execution_count": 25,
     "metadata": {},
     "output_type": "execute_result"
    }
   ],
   "source": [
    "query_unique_id(data, unique_id=0)"
   ]
  },
  {
   "cell_type": "code",
   "execution_count": 26,
   "metadata": {},
   "outputs": [
    {
     "data": {
      "image/png": "[encoded data removed]",
      "text/plain": [
       "<Figure size 1000x600 with 1 Axes>"
      ]
     },
     "metadata": {},
     "output_type": "display_data"
    },
    {
     "data": {
      "text/html": [
       "<div>\n",
       "<style scoped>\n",
       "    .dataframe tbody tr th:only-of-type {\n",
       "        vertical-align: middle;\n",
       "    }\n",
       "\n",
       "    .dataframe tbody tr th {\n",
       "        vertical-align: top;\n",
       "    }\n",
       "\n",
       "    .dataframe thead th {\n",
       "        text-align: right;\n",
       "    }\n",
       "</style>\n",
       "<table border=\"1\" class=\"dataframe\">\n",
       "  <thead>\n",
       "    <tr style=\"text-align: right;\">\n",
       "      <th></th>\n",
       "      <th>unique_id</th>\n",
       "      <th>ds</th>\n",
       "      <th>y</th>\n",
       "    </tr>\n",
       "  </thead>\n",
       "  <tbody>\n",
       "    <tr>\n",
       "      <th>115330</th>\n",
       "      <td>1649</td>\n",
       "      <td>2010-01-31</td>\n",
       "      <td>0.0</td>\n",
       "    </tr>\n",
       "    <tr>\n",
       "      <th>115331</th>\n",
       "      <td>1649</td>\n",
       "      <td>2010-02-28</td>\n",
       "      <td>0.0</td>\n",
       "    </tr>\n",
       "    <tr>\n",
       "      <th>115332</th>\n",
       "      <td>1649</td>\n",
       "      <td>2010-03-31</td>\n",
       "      <td>0.0</td>\n",
       "    </tr>\n",
       "    <tr>\n",
       "      <th>115333</th>\n",
       "      <td>1649</td>\n",
       "      <td>2010-04-30</td>\n",
       "      <td>0.0</td>\n",
       "    </tr>\n",
       "    <tr>\n",
       "      <th>115334</th>\n",
       "      <td>1649</td>\n",
       "      <td>2010-05-31</td>\n",
       "      <td>0.0</td>\n",
       "    </tr>\n",
       "    <tr>\n",
       "      <th>...</th>\n",
       "      <td>...</td>\n",
       "      <td>...</td>\n",
       "      <td>...</td>\n",
       "    </tr>\n",
       "    <tr>\n",
       "      <th>115443</th>\n",
       "      <td>1649</td>\n",
       "      <td>2019-06-30</td>\n",
       "      <td>0.0</td>\n",
       "    </tr>\n",
       "    <tr>\n",
       "      <th>115444</th>\n",
       "      <td>1649</td>\n",
       "      <td>2019-07-31</td>\n",
       "      <td>0.0</td>\n",
       "    </tr>\n",
       "    <tr>\n",
       "      <th>115445</th>\n",
       "      <td>1649</td>\n",
       "      <td>2019-08-31</td>\n",
       "      <td>0.0</td>\n",
       "    </tr>\n",
       "    <tr>\n",
       "      <th>115446</th>\n",
       "      <td>1649</td>\n",
       "      <td>2019-09-30</td>\n",
       "      <td>0.0</td>\n",
       "    </tr>\n",
       "    <tr>\n",
       "      <th>115447</th>\n",
       "      <td>1649</td>\n",
       "      <td>2019-10-31</td>\n",
       "      <td>0.0</td>\n",
       "    </tr>\n",
       "  </tbody>\n",
       "</table>\n",
       "<p>118 rows × 3 columns</p>\n",
       "</div>"
      ],
      "text/plain": [
       "        unique_id         ds    y\n",
       "115330       1649 2010-01-31  0.0\n",
       "115331       1649 2010-02-28  0.0\n",
       "115332       1649 2010-03-31  0.0\n",
       "115333       1649 2010-04-30  0.0\n",
       "115334       1649 2010-05-31  0.0\n",
       "...           ...        ...  ...\n",
       "115443       1649 2019-06-30  0.0\n",
       "115444       1649 2019-07-31  0.0\n",
       "115445       1649 2019-08-31  0.0\n",
       "115446       1649 2019-09-30  0.0\n",
       "115447       1649 2019-10-31  0.0\n",
       "\n",
       "[118 rows x 3 columns]"
      ]
     },
     "execution_count": 26,
     "metadata": {},
     "output_type": "execute_result"
    }
   ],
   "source": [
    "query_unique_id(data, unique_id=1649)"
   ]
  },
  {
   "cell_type": "code",
   "execution_count": 27,
   "metadata": {},
   "outputs": [
    {
     "data": {
      "text/plain": [
       "count    1219.000000\n",
       "mean      114.803938\n",
       "std        11.832511\n",
       "min        28.000000\n",
       "25%       118.000000\n",
       "50%       118.000000\n",
       "75%       118.000000\n",
       "max       118.000000\n",
       "Name: ds, dtype: float64"
      ]
     },
     "execution_count": 27,
     "metadata": {},
     "output_type": "execute_result"
    }
   ],
   "source": [
    "import random\n",
    "\n",
    "def check_unique_dates(df):\n",
    "    # Count unique dates for each client\n",
    "    unique_dates = data.groupby('unique_id')['ds'].nunique()\n",
    "    return unique_dates\n",
    "\n",
    "amount_months = check_unique_dates(data)\n",
    "amount_months.describe()"
   ]
  },
  {
   "cell_type": "markdown",
   "metadata": {},
   "source": [
    "### Save data"
   ]
  },
  {
   "cell_type": "code",
   "execution_count": 28,
   "metadata": {},
   "outputs": [],
   "source": [
    "data.to_csv(CLEAN_DATA_PATH, index=False)"
   ]
  },
  {
   "cell_type": "markdown",
   "metadata": {},
   "source": [
    "# Extra client data as static features"
   ]
  },
  {
   "cell_type": "code",
   "execution_count": 4,
   "metadata": {},
   "outputs": [
    {
     "data": {
      "text/html": [
       "<div>\n",
       "<style scoped>\n",
       "    .dataframe tbody tr th:only-of-type {\n",
       "        vertical-align: middle;\n",
       "    }\n",
       "\n",
       "    .dataframe tbody tr th {\n",
       "        vertical-align: top;\n",
       "    }\n",
       "\n",
       "    .dataframe thead th {\n",
       "        text-align: right;\n",
       "    }\n",
       "</style>\n",
       "<table border=\"1\" class=\"dataframe\">\n",
       "  <thead>\n",
       "    <tr style=\"text-align: right;\">\n",
       "      <th></th>\n",
       "      <th>unique_id</th>\n",
       "      <th>ds</th>\n",
       "      <th>y</th>\n",
       "    </tr>\n",
       "  </thead>\n",
       "  <tbody>\n",
       "    <tr>\n",
       "      <th>0</th>\n",
       "      <td>0</td>\n",
       "      <td>2010-01-31</td>\n",
       "      <td>-436.0</td>\n",
       "    </tr>\n",
       "    <tr>\n",
       "      <th>1</th>\n",
       "      <td>0</td>\n",
       "      <td>2010-02-28</td>\n",
       "      <td>-470.0</td>\n",
       "    </tr>\n",
       "    <tr>\n",
       "      <th>2</th>\n",
       "      <td>0</td>\n",
       "      <td>2010-03-31</td>\n",
       "      <td>-803.0</td>\n",
       "    </tr>\n",
       "    <tr>\n",
       "      <th>3</th>\n",
       "      <td>0</td>\n",
       "      <td>2010-04-30</td>\n",
       "      <td>-235.0</td>\n",
       "    </tr>\n",
       "    <tr>\n",
       "      <th>4</th>\n",
       "      <td>0</td>\n",
       "      <td>2010-05-31</td>\n",
       "      <td>-290.0</td>\n",
       "    </tr>\n",
       "  </tbody>\n",
       "</table>\n",
       "</div>"
      ],
      "text/plain": [
       "   unique_id         ds      y\n",
       "0          0 2010-01-31 -436.0\n",
       "1          0 2010-02-28 -470.0\n",
       "2          0 2010-03-31 -803.0\n",
       "3          0 2010-04-30 -235.0\n",
       "4          0 2010-05-31 -290.0"
      ]
     },
     "execution_count": 4,
     "metadata": {},
     "output_type": "execute_result"
    }
   ],
   "source": [
    "data = pd.read_csv(CLEAN_DATA_PATH, parse_dates=['ds'])\n",
    "data.head()"
   ]
  },
  {
   "cell_type": "code",
   "execution_count": 5,
   "metadata": {},
   "outputs": [
    {
     "data": {
      "text/html": [
       "<div>\n",
       "<style scoped>\n",
       "    .dataframe tbody tr th:only-of-type {\n",
       "        vertical-align: middle;\n",
       "    }\n",
       "\n",
       "    .dataframe tbody tr th {\n",
       "        vertical-align: top;\n",
       "    }\n",
       "\n",
       "    .dataframe thead th {\n",
       "        text-align: right;\n",
       "    }\n",
       "</style>\n",
       "<table border=\"1\" class=\"dataframe\">\n",
       "  <thead>\n",
       "    <tr style=\"text-align: right;\">\n",
       "      <th></th>\n",
       "      <th>client_id</th>\n",
       "      <th>current_age</th>\n",
       "      <th>retirement_age</th>\n",
       "      <th>birth_year</th>\n",
       "      <th>birth_month</th>\n",
       "      <th>gender</th>\n",
       "      <th>address</th>\n",
       "      <th>latitude</th>\n",
       "      <th>longitude</th>\n",
       "      <th>per_capita_income</th>\n",
       "      <th>yearly_income</th>\n",
       "      <th>total_debt</th>\n",
       "      <th>credit_score</th>\n",
       "      <th>num_credit_cards</th>\n",
       "    </tr>\n",
       "  </thead>\n",
       "  <tbody>\n",
       "    <tr>\n",
       "      <th>0</th>\n",
       "      <td>825</td>\n",
       "      <td>53</td>\n",
       "      <td>66</td>\n",
       "      <td>1966</td>\n",
       "      <td>11</td>\n",
       "      <td>Female</td>\n",
       "      <td>462 Rose Lane</td>\n",
       "      <td>34.0</td>\n",
       "      <td>-118.0</td>\n",
       "      <td>29278</td>\n",
       "      <td>59696</td>\n",
       "      <td>127613</td>\n",
       "      <td>787</td>\n",
       "      <td>5</td>\n",
       "    </tr>\n",
       "    <tr>\n",
       "      <th>1</th>\n",
       "      <td>1746</td>\n",
       "      <td>53</td>\n",
       "      <td>68</td>\n",
       "      <td>1966</td>\n",
       "      <td>12</td>\n",
       "      <td>Female</td>\n",
       "      <td>3606 Federal Boulevard</td>\n",
       "      <td>41.0</td>\n",
       "      <td>-74.0</td>\n",
       "      <td>37891</td>\n",
       "      <td>77254</td>\n",
       "      <td>191349</td>\n",
       "      <td>701</td>\n",
       "      <td>5</td>\n",
       "    </tr>\n",
       "    <tr>\n",
       "      <th>2</th>\n",
       "      <td>1718</td>\n",
       "      <td>81</td>\n",
       "      <td>67</td>\n",
       "      <td>1938</td>\n",
       "      <td>11</td>\n",
       "      <td>Female</td>\n",
       "      <td>766 Third Drive</td>\n",
       "      <td>34.0</td>\n",
       "      <td>-118.0</td>\n",
       "      <td>22681</td>\n",
       "      <td>33483</td>\n",
       "      <td>196</td>\n",
       "      <td>698</td>\n",
       "      <td>5</td>\n",
       "    </tr>\n",
       "    <tr>\n",
       "      <th>3</th>\n",
       "      <td>708</td>\n",
       "      <td>63</td>\n",
       "      <td>63</td>\n",
       "      <td>1957</td>\n",
       "      <td>1</td>\n",
       "      <td>Female</td>\n",
       "      <td>3 Madison Street</td>\n",
       "      <td>41.0</td>\n",
       "      <td>-74.0</td>\n",
       "      <td>163145</td>\n",
       "      <td>249925</td>\n",
       "      <td>202328</td>\n",
       "      <td>722</td>\n",
       "      <td>4</td>\n",
       "    </tr>\n",
       "    <tr>\n",
       "      <th>4</th>\n",
       "      <td>1164</td>\n",
       "      <td>43</td>\n",
       "      <td>70</td>\n",
       "      <td>1976</td>\n",
       "      <td>9</td>\n",
       "      <td>Male</td>\n",
       "      <td>9620 Valley Stream Drive</td>\n",
       "      <td>38.0</td>\n",
       "      <td>-122.0</td>\n",
       "      <td>53797</td>\n",
       "      <td>109687</td>\n",
       "      <td>183855</td>\n",
       "      <td>675</td>\n",
       "      <td>1</td>\n",
       "    </tr>\n",
       "  </tbody>\n",
       "</table>\n",
       "</div>"
      ],
      "text/plain": [
       "  client_id  current_age  retirement_age  birth_year  birth_month  gender  \\\n",
       "0       825           53              66        1966           11  Female   \n",
       "1      1746           53              68        1966           12  Female   \n",
       "2      1718           81              67        1938           11  Female   \n",
       "3       708           63              63        1957            1  Female   \n",
       "4      1164           43              70        1976            9    Male   \n",
       "\n",
       "                    address  latitude  longitude  per_capita_income  \\\n",
       "0             462 Rose Lane      34.0     -118.0              29278   \n",
       "1    3606 Federal Boulevard      41.0      -74.0              37891   \n",
       "2           766 Third Drive      34.0     -118.0              22681   \n",
       "3          3 Madison Street      41.0      -74.0             163145   \n",
       "4  9620 Valley Stream Drive      38.0     -122.0              53797   \n",
       "\n",
       "   yearly_income  total_debt  credit_score  num_credit_cards  \n",
       "0          59696      127613           787                 5  \n",
       "1          77254      191349           701                 5  \n",
       "2          33483         196           698                 5  \n",
       "3         249925      202328           722                 4  \n",
       "4         109687      183855           675                 1  "
      ]
     },
     "execution_count": 5,
     "metadata": {},
     "output_type": "execute_result"
    }
   ],
   "source": [
    "clients = pd.read_pickle(CLIENT_DATA_PATH)\n",
    "clients.head()"
   ]
  },
  {
   "cell_type": "code",
   "execution_count": 7,
   "metadata": {},
   "outputs": [],
   "source": [
    "clients['gender'] = np.where(clients['gender'] == 'Female', 1, 0)\n",
    "\n",
    "int_cols = [\n",
    "    'client_id',\n",
    " 'current_age',\n",
    " 'retirement_age',\n",
    " 'birth_year',\n",
    " 'birth_month',\n",
    " 'gender',\n",
    " 'per_capita_income',\n",
    " 'yearly_income',\n",
    " 'total_debt',\n",
    " 'credit_score',\n",
    " 'num_credit_cards'\n",
    "]\n",
    "\n",
    "for col in int_cols:\n",
    "    clients[col] = clients[col].astype(int)"
   ]
  },
  {
   "cell_type": "markdown",
   "metadata": {},
   "source": [
    "Are there extra clients?"
   ]
  },
  {
   "cell_type": "code",
   "execution_count": 10,
   "metadata": {},
   "outputs": [
    {
     "name": "stdout",
     "output_type": "stream",
     "text": [
      "Number of unique ids: 2000\n",
      "\n",
      "Number of transactions: 1219\n",
      "\n",
      "Number of not common ids: 781\n"
     ]
    }
   ],
   "source": [
    "clients_ids = set(clients['client_id'].astype(str).unique())\n",
    "transactions_clients_ids = set(data['unique_id'].astype(str).unique())\n",
    "\n",
    "print(f\"Number of unique ids: {clients['client_id'].nunique()}\\n\")\n",
    "print(f\"Number of transactions: {data['unique_id'].nunique()}\\n\")\n",
    "\n",
    "print(f\"Number of not common ids: {len(clients_ids.difference(transactions_clients_ids))}\")"
   ]
  },
  {
   "cell_type": "code",
   "execution_count": 11,
   "metadata": {},
   "outputs": [
    {
     "name": "stdout",
     "output_type": "stream",
     "text": [
      "(2000, 14)\n",
      "(1219, 13)\n"
     ]
    }
   ],
   "source": [
    "common_ids = list(clients_ids.intersection(transactions_clients_ids))\n",
    "print(clients.shape)\n",
    "clients = clients[clients['client_id'].astype(str).isin(common_ids)]\n",
    "clients = clients.drop('address', axis=1)\n",
    "print(clients.shape)"
   ]
  },
  {
   "cell_type": "code",
   "execution_count": 12,
   "metadata": {},
   "outputs": [],
   "source": [
    "clients.to_pickle(CLEAN_CLIENT_PATH)"
   ]
  },
  {
   "cell_type": "code",
   "execution_count": null,
   "metadata": {},
   "outputs": [],
   "source": []
  }
 ],
 "metadata": {
  "kernelspec": {
   "display_name": "nuwe",
   "language": "python",
   "name": "python3"
  },
  "language_info": {
   "codemirror_mode": {
    "name": "ipython",
    "version": 3
   },
   "file_extension": ".py",
   "mimetype": "text/x-python",
   "name": "python",
   "nbconvert_exporter": "python",
   "pygments_lexer": "ipython3",
   "version": "3.10.15"
  }
 },
 "nbformat": 4,
 "nbformat_minor": 2
}
